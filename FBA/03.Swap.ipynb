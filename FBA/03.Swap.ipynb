{
 "cells": [
  {
   "cell_type": "markdown",
   "id": "dcac1f09",
   "metadata": {},
   "source": [
    "Calculate the swap rate of 1-year LIBOR based interest rate swap with quarterly resets, quarterly \n",
    "and annualized."
   ]
  },
  {
   "cell_type": "code",
   "execution_count": 23,
   "id": "9743a692",
   "metadata": {
    "scrolled": true
   },
   "outputs": [
    {
     "data": {
      "text/plain": [
       "({0.970873786407767,\n",
       "  0.9808729769494849,\n",
       "  0.9886307464162135,\n",
       "  0.9952724558347847},\n",
       " 0.7394,\n",
       " 2.9576)"
      ]
     },
     "execution_count": 23,
     "metadata": {},
     "output_type": "execute_result"
    }
   ],
   "source": [
    "libor_spot_rates = {\n",
    "    90: 1.90 / 100,\n",
    "    180: 2.30 / 100,\n",
    "    270: 2.60 / 100,\n",
    "    360: 3.00 / 100\n",
    "}\n",
    "\n",
    "# 각 기간에 대한 할인 요소 계산\n",
    "discount_factors = {1 / (1 + rate * tenor / 360) for tenor, rate in libor_spot_rates.items()}\n",
    "\n",
    "quarterly_swap_rate = round(((1-0.9709)/sum(discount_factors))*100,4)\n",
    "\n",
    "annualized_swap_rate = round(quarterly_swap_rate*360/90,4)\n",
    "\n",
    "discount_factors, quarterly_swap_rate, annualized_swap_rate"
   ]
  },
  {
   "cell_type": "markdown",
   "id": "4ba582ee",
   "metadata": {},
   "source": [
    "With the LIBOR rate given as above, suppose Company FBA enters into a 1-year \n",
    "quarterly interest rate swap agreement with the Swap Bank. The notional principal amount of the \n",
    "swap is $20 million. Company FBA agrees to pay the Swap Bank fixed interest rate of 3%\n",
    "(annualized), while the Swap Bank agrees to pay Company FBA a floating interest rate based on \n",
    "the 3-month LIBOR rate. The discount factor of fixed leg is given as below"
   ]
  },
  {
   "cell_type": "code",
   "execution_count": 6,
   "id": "99f90af7",
   "metadata": {},
   "outputs": [
    {
     "data": {
      "text/plain": [
       "([149973.6, 149427.75, 148636.2, 147580.19999999998], 595617.75)"
      ]
     },
     "execution_count": 6,
     "metadata": {},
     "output_type": "execute_result"
    }
   ],
   "source": [
    "#a\n",
    "notional_principal = 20_000_000  # 원금\n",
    "fixed_interest_rate = 3 / 100  # 고정 이자율 (연간화)\n",
    "discount_factors_fixed_leg = [0.999824, 0.996185, 0.990908, 0.983868]  # 할인 요소\n",
    "\n",
    "# 분기별 이자 지불금 계산 (연간 이자율을 분기별로 나눔)\n",
    "quarterly_payment = notional_principal * (fixed_interest_rate / 4)\n",
    "\n",
    "# 각 분기별 지불금의 현재 가치(NPV) 계산\n",
    "npv_fixed_payments = [quarterly_payment * df for df in discount_factors_fixed_leg]\n",
    "\n",
    "npv_fixed_payments,sum(npv_fixed_payments)\n"
   ]
  },
  {
   "cell_type": "code",
   "execution_count": 7,
   "id": "33e7b395",
   "metadata": {
    "scrolled": true
   },
   "outputs": [
    {
     "data": {
      "text/plain": [
       "-51653.06999999999"
      ]
     },
     "execution_count": 7,
     "metadata": {},
     "output_type": "execute_result"
    }
   ],
   "source": [
    "#b\n",
    "new_libor_rate = 1.95 / 100  # 마지막 분기의 90일 LIBOR\n",
    "discount_factor_last_quarter = discount_factors_fixed_leg[-1]  # 마지막 분기의 할인 요소\n",
    "\n",
    "# 마지막 분기 고정금리 지불금의 NPV 계산\n",
    "npv_floating_payment_last_quarter = notional_principal * (new_libor_rate / 4) * discount_factor_last_quarter\n",
    "\n",
    "# 마지막 분기의 고정금리 지불금의 NPV -  고정금리 지불금의 NPV\n",
    "unwind_payment = npv_floating_payment_last_quarter - npv_fixed_payments[-1]\n",
    "\n",
    "unwind_payment"
   ]
  },
  {
   "cell_type": "markdown",
   "id": "95cc2e63",
   "metadata": {},
   "source": [
    "Referring to the table below, price a CMS to pay the three-year swap rate annually \n",
    "for two years starting in two years, assuming that the curve is flat at a semiannually compounded \n",
    "rate of 3.5% and the volatility of all rates is 50 basis points per year. \n"
   ]
  },
  {
   "cell_type": "code",
   "execution_count": 8,
   "id": "5d8a22cf",
   "metadata": {},
   "outputs": [
    {
     "data": {
      "text/plain": [
       "0.020540440655999997"
      ]
     },
     "execution_count": 8,
     "metadata": {},
     "output_type": "execute_result"
    }
   ],
   "source": [
    "# 주어진 데이터\n",
    "discount_factors = [0.887971, 0.853490] \n",
    "swap_rates = [103.92, 120.00]  \n",
    "volatility_corrections = [2.83, 3.77] \n",
    "discounted_convexity_corrections = [2.51, 3.22] \n",
    "\n",
    "\n",
    "\n",
    "# CMS 스왑의 현재 가치 계산\n",
    "cms_swap_value = sum(\n",
    "    discount_factor * (swap_rate + volatility_correction + convexity_correction) \n",
    "    for discount_factor, swap_rate, volatility_correction, convexity_correction \n",
    "    in zip(discount_factors, swap_rates, volatility_corrections, discounted_convexity_corrections)\n",
    ") / 10_000  # bps를 백분율로 변환하기 위해 10,000으로 나눔\n",
    "\n",
    "cms_swap_value\n"
   ]
  }
 ],
 "metadata": {
  "kernelspec": {
   "display_name": "Python 3 (ipykernel)",
   "language": "python",
   "name": "python3"
  },
  "language_info": {
   "codemirror_mode": {
    "name": "ipython",
    "version": 3
   },
   "file_extension": ".py",
   "mimetype": "text/x-python",
   "name": "python",
   "nbconvert_exporter": "python",
   "pygments_lexer": "ipython3",
   "version": "3.9.12"
  }
 },
 "nbformat": 4,
 "nbformat_minor": 5
}
