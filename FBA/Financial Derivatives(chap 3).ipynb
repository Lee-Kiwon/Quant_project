{
 "cells": [
  {
   "cell_type": "markdown",
   "id": "83e0b99c",
   "metadata": {},
   "source": [
    "Problem 1. What is the market value of a 20-year bond with face value of $1000, which makes \n",
    "quarterly coupon payments at a coupon rate of 10%, if the required rate of return is 8% per year, \n",
    "compounded quarterly?\n"
   ]
  },
  {
   "cell_type": "code",
   "execution_count": 1,
   "id": "61e9ed33",
   "metadata": {},
   "outputs": [
    {
     "data": {
      "text/plain": [
       "1198.7225679583362"
      ]
     },
     "execution_count": 1,
     "metadata": {},
     "output_type": "execute_result"
    }
   ],
   "source": [
    "# Given values\n",
    "face_value = 1000  # Face value of the bond\n",
    "coupon_rate = 0.10  # Coupon rate\n",
    "required_return = 0.08  # Required rate of return\n",
    "years = 20  # Years to maturity\n",
    "compounding_periods_per_year = 4  # Quarterly\n",
    "\n",
    "# Quarterly coupon payment\n",
    "coupon_payment = (coupon_rate * face_value) / compounding_periods_per_year\n",
    "\n",
    "# Number of total compounding periods\n",
    "total_periods = years * compounding_periods_per_year\n",
    "\n",
    "# Calculating the present value of the coupon payments\n",
    "present_value_coupons = coupon_payment * ((1 - (1 + required_return / compounding_periods_per_year) ** -total_periods) / (required_return / compounding_periods_per_year))\n",
    "\n",
    "# Calculating the present value of the face value\n",
    "present_value_face_value = face_value / ((1 + required_return / compounding_periods_per_year) ** total_periods)\n",
    "\n",
    "# Market value of the bond\n",
    "market_value_bond = present_value_coupons + present_value_face_value\n",
    "\n",
    "market_value_bond\n"
   ]
  },
  {
   "cell_type": "markdown",
   "id": "086c7f22",
   "metadata": {},
   "source": [
    "Problem 2. With spot rates of a bond presented as follows, calculate the Yield-to-Maturity (YTM)\n",
    "of the bond. Par value of the coupon is $10,000, with coupon rate of 3% paid annually and maturity \n",
    "of 5 years."
   ]
  },
  {
   "cell_type": "code",
   "execution_count": 13,
   "id": "28c029d6",
   "metadata": {},
   "outputs": [
    {
     "name": "stdout",
     "output_type": "stream",
     "text": [
      "Estimated YTM :  10248.54092211821\n"
     ]
    }
   ],
   "source": [
    "import numpy as np\n",
    "\n",
    "# Given values\n",
    "face_value = 10000  # Face value of the bond\n",
    "coupon = 300\n",
    "\n",
    "ytm_estimate = 300/(1+0.01) + 300/(1+0.015)**2 + 300/(1+0.02)**3 + 300/(1+0.023)**4 + 10300/(1+0.025)**5\n",
    "\n",
    "\n",
    "# Display the calculated present value and YTM\n",
    "print(\"Estimated YTM : \", ytm_estimate)  \n",
    "\n"
   ]
  },
  {
   "cell_type": "markdown",
   "id": "4a6736db",
   "metadata": {},
   "source": [
    "Problem 3. A perpetuity bond is issued with a face value of $10,000, a 6% annual coupon, and an \n",
    "annual yield of 5%. Answer the following questions.\n",
    "\n",
    "(a) How much will the bond generate in total?\n",
    "\n",
    "(b) What happens to the price of the bond when the annual yield changes to 10%?"
   ]
  },
  {
   "cell_type": "code",
   "execution_count": 2,
   "id": "2bfd921f",
   "metadata": {
    "scrolled": true
   },
   "outputs": [
    {
     "data": {
      "text/plain": [
       "(12000.0, 6000.0)"
      ]
     },
     "execution_count": 2,
     "metadata": {},
     "output_type": "execute_result"
    }
   ],
   "source": [
    "# Given values for the perpetuity bond\n",
    "face_value = 10000  # Face value of the bond\n",
    "annual_coupon_rate = 0.06  # Annual coupon rate\n",
    "annual_yield_initial = 0.05  # Initial annual yield\n",
    "\n",
    "# (a) The price of a perpetuity is calculated as: Coupon Payment / Yield\n",
    "coupon_payment = annual_coupon_rate * face_value\n",
    "price_initial = coupon_payment / annual_yield_initial\n",
    "\n",
    "# (b) \n",
    "annual_yield_new = 0.10  # New annual yield after change\n",
    "\n",
    "price_new = coupon_payment / annual_yield_new\n",
    "\n",
    "price_initial, price_new"
   ]
  },
  {
   "cell_type": "markdown",
   "id": "61df919c",
   "metadata": {},
   "source": [
    "Problem 4. Annuity A pays 800 per month for 15 years, and Annuity B pays 1,000 per month \n",
    "for 10 years. If both annuities have the same interest rate of 5%, which one has a higher present \n",
    "value?"
   ]
  },
  {
   "cell_type": "code",
   "execution_count": 3,
   "id": "49dba391",
   "metadata": {},
   "outputs": [
    {
     "data": {
      "text/plain": [
       "(101164.19416484024, 94281.35032823474)"
      ]
     },
     "execution_count": 3,
     "metadata": {},
     "output_type": "execute_result"
    }
   ],
   "source": [
    "# Given values for the annuities\n",
    "monthly_payment_a = 800  # Monthly payment for Annuity A\n",
    "years_a = 15  # Duration in years for Annuity A\n",
    "monthly_payment_b = 1000  # Monthly payment for Annuity B\n",
    "years_b = 10  # Duration in years for Annuity B\n",
    "annual_interest_rate = 0.05  # Annual interest rate for both annuities\n",
    "monthly_interest_rate = annual_interest_rate / 12  # Convert annual interest rate to monthly\n",
    "\n",
    "# Total number of payments for each annuity\n",
    "total_payments_a = years_a * 12\n",
    "total_payments_b = years_b * 12\n",
    "\n",
    "# Calculate the present value of each annuity\n",
    "# Present value formula for annuity: P = PMT * [(1 - (1 + r)^-n) / r]\n",
    "present_value_a = monthly_payment_a * ((1 - (1 + monthly_interest_rate) ** -total_payments_a) / monthly_interest_rate)\n",
    "present_value_b = monthly_payment_b * ((1 - (1 + monthly_interest_rate) ** -total_payments_b) / monthly_interest_rate)\n",
    "\n",
    "present_value_a, present_value_b\n"
   ]
  }
 ],
 "metadata": {
  "kernelspec": {
   "display_name": "Python 3 (ipykernel)",
   "language": "python",
   "name": "python3"
  },
  "language_info": {
   "codemirror_mode": {
    "name": "ipython",
    "version": 3
   },
   "file_extension": ".py",
   "mimetype": "text/x-python",
   "name": "python",
   "nbconvert_exporter": "python",
   "pygments_lexer": "ipython3",
   "version": "3.9.12"
  }
 },
 "nbformat": 4,
 "nbformat_minor": 5
}
