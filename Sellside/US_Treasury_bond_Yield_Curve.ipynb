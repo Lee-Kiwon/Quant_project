{
  "nbformat": 4,
  "nbformat_minor": 0,
  "metadata": {
    "colab": {
      "provenance": [],
      "authorship_tag": "ABX9TyPhWFVM5zjHVkcwcKb5junW",
      "include_colab_link": true
    },
    "kernelspec": {
      "name": "python3",
      "display_name": "Python 3"
    },
    "language_info": {
      "name": "python"
    }
  },
  "cells": [
    {
      "cell_type": "markdown",
      "metadata": {
        "id": "view-in-github",
        "colab_type": "text"
      },
      "source": [
        "<a href=\"https://colab.research.google.com/github/Lee-Kiwon/Quant_project/blob/main/US_Treasury_bond_Yield_Curve.ipynb\" target=\"_parent\"><img src=\"https://colab.research.google.com/assets/colab-badge.svg\" alt=\"Open In Colab\"/></a>"
      ]
    },
    {
      "cell_type": "code",
      "execution_count": null,
      "metadata": {
        "id": "Pb_2QOnjLsGH"
      },
      "outputs": [],
      "source": [
        "# 미국 국채 금리 커브 구현\n",
        "# 출처 : Antifragile Domain- 퀀트 대디 https://m.blog.naver.com/quantdaddy/221759675102"
      ]
    },
    {
      "cell_type": "code",
      "source": [
        "pip install QuantLib"
      ],
      "metadata": {
        "colab": {
          "base_uri": "https://localhost:8080/"
        },
        "id": "pWvF2NDEW8tP",
        "outputId": "da861e76-ea91-41ef-b461-d39dc7ebde91"
      },
      "execution_count": null,
      "outputs": [
        {
          "output_type": "stream",
          "name": "stdout",
          "text": [
            "Collecting QuantLib\n",
            "  Downloading QuantLib-1.32-cp310-cp310-manylinux_2_17_x86_64.manylinux2014_x86_64.whl (19.3 MB)\n",
            "\u001b[2K     \u001b[90m━━━━━━━━━━━━━━━━━━━━━━━━━━━━━━━━━━━━━━━━\u001b[0m \u001b[32m19.3/19.3 MB\u001b[0m \u001b[31m57.9 MB/s\u001b[0m eta \u001b[36m0:00:00\u001b[0m\n",
            "\u001b[?25hInstalling collected packages: QuantLib\n",
            "Successfully installed QuantLib-1.32\n"
          ]
        }
      ]
    },
    {
      "cell_type": "code",
      "source": [
        "import numpy as np\n",
        "import pandas as pd\n",
        "import matplotlib.pyplot as plt\n",
        "import datetime\n",
        "import datetime\n",
        "from bs4 import BeautifulSoup\n",
        "import QuantLib as ql"
      ],
      "metadata": {
        "id": "sJO7CGptMHxd"
      },
      "execution_count": null,
      "outputs": []
    },
    {
      "cell_type": "code",
      "source": [
        "import requests"
      ],
      "metadata": {
        "id": "ArECUBuVbXf_"
      },
      "execution_count": null,
      "outputs": []
    },
    {
      "cell_type": "code",
      "source": [
        "#WSJ에 고시되어 있는 데이터들의 기준 날짜가 언제인지 알기 위한 것 (#####크롤링 안돼서 해결 필)\n",
        "\n",
        "def GET_DATE():\n",
        "  req = requests.get(\"https://www.wsj.com/market-data/quotes/bond/BX/TMUBMUSD30Y?mod=md_bond_overview_quote\")\n",
        "  html=req.text\n",
        "  soup=BeautifulSoup(html,'html.parser')\n",
        "  data=soup.find(\"span\",class_=\"timestamp \")\n",
        "  if data:\n",
        "        date = data.text\n",
        "        date = datetime.datetime.strptime(date, \"%m/%d/%y\").date()\n",
        "        return date\n",
        "  else:\n",
        "        print(\"The specified element was not found on the webpage.\")\n",
        "        return None"
      ],
      "metadata": {
        "id": "OLmgpgUqW30Y"
      },
      "execution_count": null,
      "outputs": []
    },
    {
      "cell_type": "code",
      "source": [
        "def GET_QUOTE(reference_date):\n",
        "  tenors=['01M','03M','06M','01Y','02Y','03Y','05Y','07Y','10Y','30Y']\n",
        "\n",
        "  #Create Empty Lists\n",
        "  maturities = []\n",
        "  days = []\n",
        "  prices = []\n",
        "  coupons = []\n",
        "\n",
        "  #Get Market Information\n",
        "  for i, tenor in enumerate(tenors):\n",
        "    req=requests.get(\"https://quotes.wsj.com/bond/BX/TMUBMUSD\" + tenors + \"?mod=md_bond_overview_quote\")\n",
        "    html = req.text\n",
        "    soup = BeautifulSoup(html,'html.parser')\n",
        "\n",
        "    #price\n",
        "    if i<=3:\n",
        "      data_src = soup.find(\"span\",id=\"quote_val\")\n",
        "      price = data_src.text\n",
        "      price = float(price[:-1])\n",
        "    else:\n",
        "      data_src = soup.find(\"span\",id=\"price_quote_val\")\n",
        "      price=data_src.text\n",
        "      price=price.split()\n",
        "      price1=float(price[0])\n",
        "      price=price[1].split('/')\n",
        "      price2=float(price[0])\n",
        "      price3=float(price[1])\n",
        "      price=price1+(price2/price3)\n",
        "\n",
        "    data_src2 = soup.find_all(\"span\", class_=\"data_data\")\n",
        "\n",
        "    #Coupon\n",
        "    coupon=data_src2[2].test\n",
        "    if coupon !='':\n",
        "      coupon = float(coupon[:-1])\n",
        "    else:\n",
        "      coupon = 0.0\n",
        "\n",
        "    #Maturity Date(만기일)\n",
        "    maturity = data_src2[3].text\n",
        "    maturity = datetime.datetime.strptime(maturity, '%m/%d/%y').date()\n",
        "\n",
        "    #Send to Lists\n",
        "    days.append((maturity-reference_date).days)\n",
        "    prices.append(price)\n",
        "    coupons.append(coupon)\n",
        "    maturities.append(maturity)\n",
        "\n",
        "  #Create DataFrame\n",
        "  df = pd.DataFrame([maturities, days,prices, coupons]).transpose()\n",
        "  headers=['maturity','days','price','coupon']\n",
        "  df.columns = headers\n",
        "  df.set_index('maturity',inplace=True)\n",
        "\n",
        "  return df"
      ],
      "metadata": {
        "id": "8rjA8HYUW382"
      },
      "execution_count": null,
      "outputs": []
    },
    {
      "cell_type": "code",
      "source": [
        "#Test\n",
        "ref_date = GET_DATE()\n",
        "ref_date\n",
        "#quote = GET_QUOTE(ref_date)\n",
        "#print(quote)"
      ],
      "metadata": {
        "colab": {
          "base_uri": "https://localhost:8080/"
        },
        "id": "qQ2RZhIVbPKg",
        "outputId": "9f89108f-a4fd-47d4-bb11-3321fa37f4ce"
      },
      "execution_count": null,
      "outputs": [
        {
          "output_type": "stream",
          "name": "stdout",
          "text": [
            "The specified element was not found on the webpage.\n"
          ]
        }
      ]
    },
    {
      "cell_type": "code",
      "source": [
        "def TREASURY_CURVE(date, quote):\n",
        "\n",
        "  #Divide Quotes 데이터 프레임 나누기(무이표채와 이표채를 나누는 방식이 다르기 때문에 이 작업 진행)\n",
        "  tbill=quote[0:4]\n",
        "  tbond=quote[4:]\n",
        "\n",
        "  #Set Evaluation Date(평가일 설정)\n",
        "  eval_date = ql.Date(date.day,date.month,date.year)\n",
        "  ql.Settings.instance().evaluationDate=eval_date\n",
        "\n",
        "  #Set Market Conventions(시장 관행 설정)\n",
        "  calender = ql.UnitedStates()\n",
        "  convention = ql.ModifiedFollowing\n",
        "  day_counter = ql.ActualActual()\n",
        "  end_of_month = True\n",
        "  fixing_days = 1\n",
        "  face_amount = 100\n",
        "  coupon_frequency = ql.period(ql.Semiannual)\n",
        "\n",
        "  # Construct Treasury Bill helpers 무이표채에 적용되는 퀀트립 메소드\n",
        "  bill_helpers = [ql.DepositRateHelper(ql.QuoteHandle(ql.SimpleQuote(r/100.0)),\n",
        "                                       ql.Period(m,ql.Days),\n",
        "                                       fixing_days,\n",
        "                                       calendar,\n",
        "                                       convention,\n",
        "                                       end_of_month,\n",
        "                                       day_counter)\n",
        "                  for r,m in zip(tbill['price'], tbill['days'])]\n",
        "\n",
        "  # Construct Treasury Bond Helpers\n",
        "  bond_helpers = []\n",
        "  for p,c,m in zip(tbond['price'],tbond['coupon'],tbond['days']):\n",
        "    termination_date = eval_date + ql.Period(m,ql.Days)\n",
        "    schedule = ql.Schedule(eval_date,\n",
        "                           termination_date,\n",
        "                           coupon_frequency,\n",
        "                           calendar,\n",
        "                           convention,\n",
        "                           convention,\n",
        "                           ql.DateGeneration.Backward,\n",
        "                           end_of_month)\n",
        "    bond_helper = ql.FixedRateBondHelper(ql.QuoteHandle(ql.SimpleQuote(p)),\n",
        "                                         fixing_days,\n",
        "                                         face_amount,\n",
        "                                         schedule,\n",
        "                                         [c/100.0],\n",
        "                                         day_counter,\n",
        "                                         convention)\n",
        "    bond_helpers.append(bond_helper)\n",
        "\n",
        "    #Bind Helpers(무이표채와 이표채 Helper 결)\n",
        "\n",
        "    rate_helper = bill_helpers + bond_helpers\n",
        "\n",
        "    #Build Curve(헬퍼를 커브 모듈에 태우기, 선형 보간을 사용해서 커브 만듦)\n",
        "    #선형 보간법은 1차원 직선상에서 두 점의 값이 주어졌을 때 그 사이의 값을 추정하기 위해 직선 거리에 따라 선형적으로 계산하는 방법\n",
        "\n",
        "\n",
        "    yc_linearzero = ql.PiecewiseLinearZero(eval_date, rate_helper, day_counter)\n",
        "\n",
        "    return yc_linearzero\n",
        "\n",
        "    #Discount_Factor\n",
        "    def DISCOUNT_FACTOR(date, curve):\n",
        "      date = ql.Date(date.day, date.month, date.year)\n",
        "      return curve.discount(date)\n",
        "\n",
        "    #DISCOUNT_FACTOR() 특정일만 알려주면 그\n",
        "\n",
        "    def DISCOUNT_FACTOR(date, curve):\n",
        "      date = ql.Date(date.day, date.month, date.year)\n",
        "      return curve.discount(date)\n",
        "\n",
        "    #Zero_RATE()\n",
        "\n",
        "    def ZERO_RATE(date, curve):\n",
        "      date = ql.Date(date.day, date.month, date.year)\n",
        "      day_counter = ql.ActualActual()\n",
        "      compounding = ql.Coumpounded\n",
        "      freq = ql.Continuous\n",
        "      zero_rate = curve.zeroRate(date, day_counter, compounding, freq).rate()\n",
        "      return zeor_rate\n",
        "\n",
        "\n",
        "\n",
        "\n",
        "\n",
        "\n",
        "\n",
        "\n"
      ],
      "metadata": {
        "id": "tAzk-W1mfTMh"
      },
      "execution_count": null,
      "outputs": []
    },
    {
      "cell_type": "code",
      "source": [
        "#테스트\n",
        "\n",
        "ref_date = GET_DATE()\n",
        "quote = GET_QUOTE(ref_date)\n",
        "curve = TREASURY_CURVE(ref_date, quote)\n",
        "\n",
        "quote['discount factor'] = np.nan\n",
        "quote['zero rate'] = np.nan\n",
        "curve = TREASURY_CURVE(ref_date, quote)\n",
        "\n",
        "for date in quote.index:\n",
        "  quote.loc[date, 'discount factor'] = DISCOUNT_FACTOR(date, curve)\n",
        "  quote.loc[date, 'zero rate'] = ZERO_RATE(date, curve)\n",
        "\n",
        "print(quote[['discount facotor', 'zero rate']])\n",
        "\n",
        "plt.figure(figsize=(16,8))\n",
        "plt.plot(quote['zero rate'], 'b.-')\n",
        "plt.title('Zero Curve', loc='center')\n",
        "plt.xlabel('Maturity')\n",
        "plt.ylabel('Zero Rate')\n",
        "\n",
        "plt.figure(figsize=(16,8))\n",
        "plt.plot(quote['discount factor'],'r.-')\n",
        "plt.title('Discount Curve', loc='center')\n",
        "plt.xlabel('Maturity')\n",
        "plt.ylabel('Discount Factor')"
      ],
      "metadata": {
        "id": "yFocMndGfZen"
      },
      "execution_count": null,
      "outputs": []
    }
  ]
}
