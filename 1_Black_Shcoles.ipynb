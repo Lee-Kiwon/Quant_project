{
  "nbformat": 4,
  "nbformat_minor": 0,
  "metadata": {
    "colab": {
      "provenance": []
    },
    "kernelspec": {
      "name": "python3",
      "display_name": "Python 3"
    },
    "language_info": {
      "name": "python"
    }
  },
  "cells": [
    {
      "cell_type": "markdown",
      "source": [
        "**Quantlib를 통한 블랙솔즈 옵션 모형 구현**\n"
      ],
      "metadata": {
        "id": "5UfdypKar2vA"
      }
    },
    {
      "cell_type": "code",
      "execution_count": 2,
      "metadata": {
        "colab": {
          "base_uri": "https://localhost:8080/"
        },
        "id": "Fbdzt3LPqchr",
        "outputId": "c5b572fa-d1f7-47cb-8b14-aa9926d26fae"
      },
      "outputs": [
        {
          "output_type": "stream",
          "name": "stdout",
          "text": [
            "Collecting quantlib\n",
            "  Downloading QuantLib-1.32-cp310-cp310-manylinux_2_17_x86_64.manylinux2014_x86_64.whl (19.3 MB)\n",
            "\u001b[2K     \u001b[90m━━━━━━━━━━━━━━━━━━━━━━━━━━━━━━━━━━━━━━━━\u001b[0m \u001b[32m19.3/19.3 MB\u001b[0m \u001b[31m24.5 MB/s\u001b[0m eta \u001b[36m0:00:00\u001b[0m\n",
            "\u001b[?25hInstalling collected packages: quantlib\n",
            "Successfully installed quantlib-1.32\n"
          ]
        }
      ],
      "source": [
        "pip install quantlib\n"
      ]
    },
    {
      "cell_type": "code",
      "source": [
        "import QuantLib as ql\n",
        "#출처 : Antifragile Domain, by 김성진 퀀트"
      ],
      "metadata": {
        "id": "zoa26dMWqqKa"
      },
      "execution_count": 3,
      "outputs": []
    },
    {
      "cell_type": "code",
      "source": [
        "#평가일 정의\n",
        "valuationdate = ql.Date(14,6,2019)"
      ],
      "metadata": {
        "id": "Q0aNOh9ar0tJ"
      },
      "execution_count": 18,
      "outputs": []
    },
    {
      "cell_type": "code",
      "source": [
        "ql.Settings.instance().evaluationDate = valuationdate\n",
        "#평가일 알려주기\n",
        "\n",
        "#한국 날짜\n",
        "calender = ql.SouthKorea()"
      ],
      "metadata": {
        "id": "AuU_WZdEu33a"
      },
      "execution_count": 19,
      "outputs": []
    },
    {
      "cell_type": "code",
      "source": [
        "#영업일수 계산(ACT/ACT방식)\n",
        "dayCount = ql.ActualActual(ql.ActualActual.ISDA)"
      ],
      "metadata": {
        "id": "Iy6KTSKJyfo7"
      },
      "execution_count": 20,
      "outputs": []
    },
    {
      "cell_type": "code",
      "source": [
        "#Simple quote : 단순히 시장의 데이터를 담고 있는 객체이다. 보통 주가, 금리, 배당률, 변동성 같은 시장 데이터들을 담는 데에 쓰인다.\n",
        "\n",
        "underlying_qt = ql.SimpleQuote(270.48) # 기초 가격\n",
        "dividened_qt = ql.SimpleQuote(0.0) # Dividend Yield, 배당 수익률\n",
        "riskfreerate_qt = ql.SimpleQuote(0.01) #무이자 수익률\n",
        "volatility_qt = ql.SimpleQuote(0.13) #변동성\n"
      ],
      "metadata": {
        "id": "ma3QxvMFywvh"
      },
      "execution_count": 21,
      "outputs": []
    },
    {
      "cell_type": "code",
      "source": [
        "# Quote Handle Objects\n",
        "\n",
        "u_qhd = ql.QuoteHandle(underlying_qt)\n",
        "q_qhd = ql.QuoteHandle(dividened_qt)\n",
        "r_qhd = ql.QuoteHandle(riskfreerate_qt)\n",
        "v_qhd = ql.QuoteHandle(volatility_qt)"
      ],
      "metadata": {
        "id": "pJqvWxBj1_BS"
      },
      "execution_count": 22,
      "outputs": []
    },
    {
      "cell_type": "code",
      "source": [
        "# Term-Structure Objects\n",
        "#기간 구조가 필요한 녀석들을  Term-Structure 객체(시계열인듯 하다)로 변환시켜주는 작업"
      ],
      "metadata": {
        "id": "bUuox9zD2GRq"
      },
      "execution_count": 23,
      "outputs": []
    },
    {
      "cell_type": "code",
      "source": [
        "r_ts = ql.FlatForward(valuationdate, r_qhd, dayCount)\n",
        "d_ts = ql.FlatForward(valuationdate, q_qhd, dayCount)\n",
        "v_ts = ql.BlackConstantVol(valuationdate, calender, v_qhd, dayCount)"
      ],
      "metadata": {
        "id": "c-8JYBRlm9ep"
      },
      "execution_count": 24,
      "outputs": []
    },
    {
      "cell_type": "code",
      "source": [
        "#Term-Structure Handle Objects\n",
        "\n",
        "r_thd = ql.YieldTermStructureHandle(r_ts)\n",
        "d_thd = ql.YieldTermStructureHandle(d_ts)\n",
        "v_thd = ql.BlackVolTermStructureHandle(v_ts)"
      ],
      "metadata": {
        "id": "wMm2KhhLpLEc"
      },
      "execution_count": 25,
      "outputs": []
    },
    {
      "cell_type": "code",
      "source": [
        "# Process & Pricing Engine\n",
        "process = ql.BlackScholesMertonProcess(u_qhd, d_thd, r_thd, v_thd)\n",
        "engine = ql.AnalyticEuropeanEngine(process)"
      ],
      "metadata": {
        "id": "MG5Shq2sm9hD"
      },
      "execution_count": 26,
      "outputs": []
    },
    {
      "cell_type": "code",
      "source": [
        "#Option Objects 만기가 2023/12/12, 행사가가 272인 유러피안 콜옵션\n",
        "\n",
        "option_type = ql.Option.Call\n",
        "strikePrice = 272\n",
        "expiryDate = ql.Date(12,12,2023)\n",
        "exercise = ql.EuropeanExercise(expiryDate)\n",
        "payoff = ql.PlainVanillaPayoff(option_type, strikePrice)\n",
        "option = ql.VanillaOption(payoff, exercise)"
      ],
      "metadata": {
        "id": "BPvMdYITm9ja"
      },
      "execution_count": 27,
      "outputs": []
    },
    {
      "cell_type": "code",
      "source": [
        "#Pricing\n",
        "option.setPricingEngine(engine)"
      ],
      "metadata": {
        "id": "-gdDvg70m9mA"
      },
      "execution_count": 28,
      "outputs": []
    },
    {
      "cell_type": "code",
      "source": [
        "#Price & Greeks Results\n",
        "\n",
        "print('Option Premium = ', round(option.NPV(),2))\n",
        "print('Option Delta = ', round(option.delta(),4))\n",
        "print('Option Gamma = ', round(option.gamma(),4))\n",
        "print('Option Theta = ', round(option.thetaPerDay(),4))\n",
        "print('Option Vega = ', round(option.vega()/100,4))\n",
        "print('Option Rho = ', round(option.rho()/100,4))\n"
      ],
      "metadata": {
        "colab": {
          "base_uri": "https://localhost:8080/"
        },
        "id": "MFPifiAZp8gg",
        "outputId": "fb9f9a24-4832-4d66-8556-f78994989780"
      },
      "execution_count": 29,
      "outputs": [
        {
          "output_type": "stream",
          "name": "stdout",
          "text": [
            "Option Premium =  34.59\n",
            "Option Delta =  0.6105\n",
            "Option Gamma =  0.0051\n",
            "Option Theta =  -0.0123\n",
            "Option Vega =  2.1997\n",
            "Option Rho =  5.8687\n"
          ]
        }
      ]
    },
    {
      "cell_type": "code",
      "source": [],
      "metadata": {
        "id": "HdHVy07yp8lR"
      },
      "execution_count": null,
      "outputs": []
    },
    {
      "cell_type": "code",
      "source": [],
      "metadata": {
        "id": "LUhJshTAp8na"
      },
      "execution_count": null,
      "outputs": []
    },
    {
      "cell_type": "code",
      "source": [],
      "metadata": {
        "id": "up0zVRiFp8qL"
      },
      "execution_count": null,
      "outputs": []
    }
  ]
}