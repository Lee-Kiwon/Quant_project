{
 "cells": [
  {
   "cell_type": "code",
   "execution_count": 2,
   "id": "024b34d8",
   "metadata": {},
   "outputs": [],
   "source": [
    "import numpy as np"
   ]
  },
  {
   "cell_type": "markdown",
   "id": "69617e03",
   "metadata": {},
   "source": [
    "Problem1."
   ]
  },
  {
   "cell_type": "code",
   "execution_count": 7,
   "id": "8a0e5d37",
   "metadata": {},
   "outputs": [
    {
     "name": "stdout",
     "output_type": "stream",
     "text": [
      "[1.02829028 0.99303483 0.97880633] [1.625 0.5   2.625] [101.625 100.5   102.625]\n",
      "6 months - Discount Factor: 1.0283, Coupon Payment: 1.62, Total Cash Flow: 101.62\n",
      "1 year - Discount Factor: 0.9930, Coupon Payment: 0.50, Total Cash Flow: 100.50\n",
      "1.5 years - Discount Factor: 0.9788, Coupon Payment: 2.63, Total Cash Flow: 102.62\n"
     ]
    }
   ],
   "source": [
    "#(a) Derive the discount factors for cash flows to be received in 6 months, 1 year, 1.5 years.\n",
    "\n",
    "coupon_rate = np.array([0.0325, 0.005, 0.0175])  # Coupon rate of the bond\n",
    "face_value = np.array([100,100,100])  # Face value of the bond\n",
    "price = np.array([104.5, 99.8, 100.45])  # Price of the bond\n",
    "maturity = np.array([1/2, 1, 3/2])\n",
    "\n",
    "coupon_payment = coupon_rate * maturity* face_value\n",
    "\n",
    "total_cash_flow = face_value + coupon_payment\n",
    "\n",
    "discount_factor = price / total_cash_flow\n",
    "\n",
    "print(discount_factor, coupon_payment, total_cash_flow)\n",
    "\n",
    "maturity_labels = [\"6 months\", \"1 year\", \"1.5 years\"]\n",
    "for i in range(len(discount_factor)):\n",
    "    print(f\"{maturity_labels[i]} - Discount Factor: {discount_factor[i]:.4f}, Coupon Payment: {coupon_payment[i]:.2f}, Total Cash Flow: {total_cash_flow[i]:.2f}\")"
   ]
  },
  {
   "cell_type": "code",
   "execution_count": 14,
   "id": "c51812d4",
   "metadata": {},
   "outputs": [
    {
     "name": "stdout",
     "output_type": "stream",
     "text": [
      "Price : 103.98585485854859\n"
     ]
    }
   ],
   "source": [
    "#(b)Suppose there existed a Treasury issue with a coupon of 2.25% maturing on August 15, 2024.Using the discount factors derived from (a), what would be the price of this Treasury issue?\n",
    "\n",
    "print(\"Price :\",(100+100*0.0225/2)*discount_factor[0])\n"
   ]
  },
  {
   "cell_type": "code",
   "execution_count": 15,
   "id": "e6a7d85d",
   "metadata": {},
   "outputs": [
    {
     "name": "stdout",
     "output_type": "stream",
     "text": [
      "Price : 103.85731857318574\n",
      "arbitrageur profit : 2.8573185731857365\n"
     ]
    }
   ],
   "source": [
    "#(c)\n",
    "\n",
    "print(\"Price :\",(100+100*0.02/2)*discount_factor[0])\n",
    "print(\"arbitrageur profit :\",(100+100*0.02/2)*discount_factor[0]-101)\n",
    "print(\"We can \")"
   ]
  },
  {
   "cell_type": "markdown",
   "id": "86f6249b",
   "metadata": {},
   "source": [
    "Problem 2.An investor deposits $20,000 in a bank today at 5% annual interest. Assuming that \n",
    "no additional deposits are made, and that no money is withdrawn, how large will the account \n",
    "balance be 25 years from today if"
   ]
  },
  {
   "cell_type": "code",
   "execution_count": 17,
   "id": "63a8610d",
   "metadata": {},
   "outputs": [
    {
     "name": "stdout",
     "output_type": "stream",
     "text": [
      "Simple Interest Balance: $45000.0\n",
      "Annual Compound Balance: $67727.09881798777\n",
      "Quarterly Compound Balance: $69268.0854989165\n",
      "Monthly Compound Balance: $69625.80904063108\n",
      "Continuously Compound Balance: $69806.85914923683\n"
     ]
    }
   ],
   "source": [
    "principal = 20000  \n",
    "annual_interest_rate = 0.05  \n",
    "years = 25 \n",
    "\n",
    "# (a) Simple interest\n",
    "simple_interest_balance = principal * (1 + annual_interest_rate * years)\n",
    "\n",
    "# (b) Compounded annually\n",
    "annual_compound_balance = principal * ((1 + annual_interest_rate)**years)\n",
    "\n",
    "# (c) Compounded quarterly\n",
    "quarterly_compound_balance = principal * ((1 + annual_interest_rate / 4)**(4 * years))\n",
    "\n",
    "# (d) Compounded monthly\n",
    "monthly_compound_balance = principal * ((1 + annual_interest_rate / 12)**(12 * years))\n",
    "\n",
    "# (e) Compounded continuously\n",
    "continuously_compound_balance = principal * np.exp(annual_interest_rate * years)\n",
    "\n",
    "print(f\"Simple Interest Balance: ${simple_interest_balance}\")\n",
    "print(f\"Annual Compound Balance: ${annual_compound_balance}\")\n",
    "print(f\"Quarterly Compound Balance: ${quarterly_compound_balance}\")\n",
    "print(f\"Monthly Compound Balance: ${monthly_compound_balance}\")\n",
    "print(f\"Continuously Compound Balance: ${continuously_compound_balance}\")"
   ]
  },
  {
   "cell_type": "markdown",
   "id": "bedb1a55",
   "metadata": {},
   "source": [
    "Problem 3.A bank is paying interest compounded continuously at the annual rate r. The rate is independent of the length of the deposit and it is known now that the same rate will apply to  deposits made in the future. A customer calls the bank and asks: “If I deposit 2,000 today and an additional 3,000 6months from today and make no other deposits or withdrawals, what will my account balance be one year from today?” The bank answers 5,328.98. Determine r."
   ]
  },
  {
   "cell_type": "code",
   "execution_count": 38,
   "id": "e0d6161d",
   "metadata": {},
   "outputs": [
    {
     "data": {
      "text/plain": [
       "-4.6842365986346275"
      ]
     },
     "execution_count": 38,
     "metadata": {},
     "output_type": "execute_result"
    }
   ],
   "source": [
    "#5328.98 = 2000 * e^(r*1) + 3000 * e^(r*0.5)\n",
    "(np.log(5328.98)-np.log(2000)-np.log(3000))/1.5"
   ]
  },
  {
   "cell_type": "code",
   "execution_count": 40,
   "id": "0ca33315",
   "metadata": {},
   "outputs": [
    {
     "name": "stderr",
     "output_type": "stream",
     "text": [
      "C:\\Users\\wrwqr\\anaconda3\\lib\\site-packages\\scipy\\__init__.py:146: UserWarning: A NumPy version >=1.16.5 and <1.23.0 is required for this version of SciPy (detected version 1.26.2\n",
      "  warnings.warn(f\"A NumPy version >={np_minversion} and <{np_maxversion}\"\n"
     ]
    },
    {
     "data": {
      "text/plain": [
       "0.0906779092348373"
      ]
     },
     "execution_count": 40,
     "metadata": {},
     "output_type": "execute_result"
    }
   ],
   "source": [
    "# Given data for Problem 3\n",
    "P1 = 2000  # First deposit\n",
    "P2 = 3000  # Second deposit 6 months later\n",
    "A = 5328.98  # Account balance one year from the first deposit\n",
    "t1 = 1  # Time in years from the first deposit to the future point\n",
    "t2 = 0.5  # Time in years from the second deposit to the future point\n",
    "\n",
    "# The formula for the future value of a deposit made today and compounded continuously is A = P * e^(rt).\n",
    "# Therefore, we have two deposits contributing to the future value:\n",
    "# A = P1 * e^(r*t1) + P2 * e^(r*t2)\n",
    "# Given A, P1, P2, t1, and t2, we need to solve for r.\n",
    "\n",
    "# Rearranging the equation gives us:\n",
    "# r = ln(A / (P1 + P2)) / t, but since we have two different times for deposits, we cannot directly apply this formula.\n",
    "\n",
    "# Instead, we solve for r using numerical methods.\n",
    "from scipy.optimize import root\n",
    "\n",
    "# Define the equation to solve\n",
    "def equation(r):\n",
    "    return P1 * np.exp(r * t1) + P2 * np.exp(r * t2) - A\n",
    "\n",
    "# Initial guess for r\n",
    "r_guess = 0.05\n",
    "\n",
    "# Solve for r\n",
    "solution = root(equation, r_guess)\n",
    "\n",
    "# Check if the solution for r matches the provided answer\n",
    "r_solution = solution.x[0]\n",
    "r_solution\n"
   ]
  },
  {
   "cell_type": "code",
   "execution_count": 41,
   "id": "4fd3f5be",
   "metadata": {},
   "outputs": [
    {
     "data": {
      "text/plain": [
       "0.06372193782414826"
      ]
     },
     "execution_count": 41,
     "metadata": {},
     "output_type": "execute_result"
    }
   ],
   "source": [
    "np.log(5328.98)-np.log(5000)"
   ]
  },
  {
   "cell_type": "markdown",
   "id": "f5d9b7d4",
   "metadata": {},
   "source": [
    "Problem 4"
   ]
  },
  {
   "cell_type": "code",
   "execution_count": 44,
   "id": "56f33555",
   "metadata": {},
   "outputs": [
    {
     "name": "stdout",
     "output_type": "stream",
     "text": [
      "[0.94669231 0.96384    0.87181356] [ 4.  0. 18.] [104. 100. 118.]\n",
      "6 months - Discount Factor: 0.9467, Coupon Payment: 4.00, Total Cash Flow: 104.00\n",
      "1 year - Discount Factor: 0.9638, Coupon Payment: 0.00, Total Cash Flow: 100.00\n",
      "1.5 years - Discount Factor: 0.8718, Coupon Payment: 18.00, Total Cash Flow: 118.00\n"
     ]
    }
   ],
   "source": [
    "#(a) Find the discount factors d (.5), d (1), and d (1.5)\n",
    "coupon_rate = np.array([0.08, 0, 0.12])  # Coupon rate of the bond\n",
    "face_value = np.array([100,100,100])  # Face value of the bond\n",
    "price = np.array([98.456, 96.384, 102.874])  # Price of the bond\n",
    "maturity = np.array([1/2, 1, 3/2])\n",
    "\n",
    "coupon_payment = coupon_rate * maturity* face_value\n",
    "\n",
    "total_cash_flow = face_value + coupon_payment\n",
    "\n",
    "discount_factor = price / total_cash_flow\n",
    "\n",
    "print(discount_factor, coupon_payment, total_cash_flow)\n",
    "\n",
    "maturity_labels = [\"6 months\", \"1 year\", \"1.5 years\"]\n",
    "for i in range(len(discount_factor)):\n",
    "    print(f\"{maturity_labels[i]} - Discount Factor: {discount_factor[i]:.4f}, Coupon Payment: {coupon_payment[i]:.2f}, Total Cash Flow: {total_cash_flow[i]:.2f}\")"
   ]
  },
  {
   "cell_type": "code",
   "execution_count": 51,
   "id": "625f5a6f",
   "metadata": {},
   "outputs": [
    {
     "name": "stdout",
     "output_type": "stream",
     "text": [
      "spot rate : 0.03799045048785543\n",
      "forward rate : 0.17182840100940577\n"
     ]
    }
   ],
   "source": [
    "#(b) Find the spot rate r(1) and the forward rate f(1)\n",
    "\n",
    "#d = 1/((1+r)^t)\n",
    "\n",
    "print(\"spot rate :\",(1/0.9634)-1)\n",
    "\n",
    "#(1+f/2) = d(0.5)/d(1.5)\n",
    "\n",
    "print(\"forward rate :\", 2*((0.9467/0.8718)-1))"
   ]
  },
  {
   "cell_type": "code",
   "execution_count": 54,
   "id": "0afae3e0",
   "metadata": {},
   "outputs": [
    {
     "data": {
      "text/plain": [
       "[3.69999999999998]"
      ]
     },
     "execution_count": 54,
     "metadata": {},
     "output_type": "execute_result"
    }
   ],
   "source": [
    "#(c) Find a coupon rate q that the price of a bond with maturity 1.5 years, face values $100 and coupon rate q will be equal to $100\n",
    "from sympy import symbols, Eq, solve\n",
    "\n",
    "q = symbols('q')\n",
    "r = (0.037/2)\n",
    "\n",
    "C = q / 2\n",
    "\n",
    "# 채권 가격 방정식\n",
    "P = 100  # 채권 가격이 $100과 같아야 함\n",
    "equation = Eq(C/(1+r) + C/(1+r)**2 + C/(1+r)**3 + 100/(1+r)**3, P)\n",
    "\n",
    "# 방정식 풀이\n",
    "q_solution = solve(equation, q)\n",
    "\n",
    "q_solution"
   ]
  },
  {
   "cell_type": "markdown",
   "id": "2d9cf281",
   "metadata": {},
   "source": [
    "Problem 5\n",
    "Assume that the spot rates for maturities .25, .5, .75, and 1 are given by\n",
    "\n",
    "r (.25) = 0.04873, \n",
    "r (.5) = 0.04496, \n",
    "r (.75) = 0.04782, \n",
    "r(1) = 0.04891.\n",
    "A customer walks into a bank today and agrees to borrow $100,000 3 months from today (t1) and to repay the loan with a single lump-sum payment 1 years from today (t2).How much will the customer pay the bank at time 2"
   ]
  },
  {
   "cell_type": "code",
   "execution_count": 60,
   "id": "217e6fbb",
   "metadata": {
    "scrolled": true
   },
   "outputs": [
    {
     "name": "stdout",
     "output_type": "stream",
     "text": [
      "1.0001716361694621\n",
      "forward rate : 0.0003432723389242831\n"
     ]
    },
    {
     "data": {
      "text/plain": [
       "100025.74432086575"
      ]
     },
     "execution_count": 60,
     "metadata": {},
     "output_type": "execute_result"
    }
   ],
   "source": [
    "present_value = 100000 \n",
    "r1 = 0.04873\n",
    "r2 = 0.04891\n",
    "d1 = 1/(1+r1)\n",
    "d2 = 1/(1+r2)\n",
    "\n",
    "print(d1/d2)\n",
    "\n",
    "interest_rate = 2*((d1/d2)-1)  \n",
    "n = 0.75  # Time period in years from the loan to the repayment\n",
    "\n",
    "print(\"forward rate :\", interest_rate)\n",
    "\n",
    "future_value = present_value * (1 + interest_rate)**n\n",
    "\n",
    "future_value"
   ]
  },
  {
   "cell_type": "code",
   "execution_count": null,
   "id": "3d512f4e",
   "metadata": {},
   "outputs": [],
   "source": []
  }
 ],
 "metadata": {
  "kernelspec": {
   "display_name": "Python 3 (ipykernel)",
   "language": "python",
   "name": "python3"
  },
  "language_info": {
   "codemirror_mode": {
    "name": "ipython",
    "version": 3
   },
   "file_extension": ".py",
   "mimetype": "text/x-python",
   "name": "python",
   "nbconvert_exporter": "python",
   "pygments_lexer": "ipython3",
   "version": "3.9.12"
  }
 },
 "nbformat": 4,
 "nbformat_minor": 5
}
